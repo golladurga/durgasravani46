{
 "cells": [
  {
   "cell_type": "code",
   "execution_count": 1,
   "id": "8169bb5c",
   "metadata": {},
   "outputs": [
    {
     "name": "stdout",
     "output_type": "stream",
     "text": [
      "Total Cost: 880.0000000000001\n"
     ]
    }
   ],
   "source": [
    "def calculate_total_cost(sales, profit, ship_mode):\n",
    "    if ship_mode == \"Same Day\":\n",
    "        surcharge = 0.2\n",
    "    elif ship_mode == \"First Class\":\n",
    "        surcharge = 0.1\n",
    "    elif ship_mode == \"Standard Class\":\n",
    "        surcharge = 0.05\n",
    "    else:\n",
    "        surcharge = 0\n",
    "    \n",
    "    total_cost = (sales - profit) * (1 + surcharge)\n",
    "    return total_cost\n",
    "\n",
    "sales = 1000\n",
    "profit = 200\n",
    "ship_mode = \"First Class\"\n",
    "\n",
    "total_cost = calculate_total_cost(sales, profit, ship_mode)\n",
    "print(\"Total Cost:\", total_cost)\n"
   ]
  },
  {
   "cell_type": "code",
   "execution_count": null,
   "id": "1a931e04",
   "metadata": {},
   "outputs": [],
   "source": []
  }
 ],
 "metadata": {
  "kernelspec": {
   "display_name": "Python 3 (ipykernel)",
   "language": "python",
   "name": "python3"
  },
  "language_info": {
   "codemirror_mode": {
    "name": "ipython",
    "version": 3
   },
   "file_extension": ".py",
   "mimetype": "text/x-python",
   "name": "python",
   "nbconvert_exporter": "python",
   "pygments_lexer": "ipython3",
   "version": "3.10.9"
  }
 },
 "nbformat": 4,
 "nbformat_minor": 5
}
